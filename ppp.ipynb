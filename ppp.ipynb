{
  "cells": [
    {
      "cell_type": "code",
      "execution_count": 1,
      "metadata": {
        "id": "lNCOCKqSBjUU"
      },
      "outputs": [],
      "source": [
        "import pandas as pd\n",
        "from nltk.corpus import stopwords\n",
        "from nltk.stem.wordnet import WordNetLemmatizer\n",
        "import string\n",
        "from textblob.classifiers import NaiveBayesClassifier\n",
        "from textblob import TextBlob\n",
        "from nltk.corpus import stopwords\n",
        "from nltk.stem import PorterStemmer\n",
        "from textblob import Word\n",
        "from nltk.util import ngrams\n",
        "import re\n",
        "from nltk.tokenize import word_tokenize\n",
        "import matplotlib.pyplot as plt\n",
        "from sklearn.feature_extraction.text import CountVectorizer,TfidfVectorizer\n",
        "from sklearn.decomposition import LatentDirichletAllocation\n",
        "import sklearn.feature_extraction.text as text\n",
        "from sklearn.decomposition import NMF, LatentDirichletAllocation, TruncatedSVD\n",
        "from sklearn import model_selection, preprocessing, linear_model, naive_bayes, metrics, svm\n",
        "import xgboost\n",
        "from sklearn import decomposition, ensemble\n",
        "import pandas, numpy, textblob, string\n",
        "import re\n",
        "import nltk\n",
        "from sklearn.metrics import classification_report\n",
        "from sklearn.metrics import confusion_matrix\n",
        "from sklearn.metrics import accuracy_score\n",
        "from sklearn.metrics import mean_absolute_error"
      ]
    },
    {
      "cell_type": "code",
      "execution_count": null,
      "metadata": {},
      "outputs": [],
      "source": [
        "import seaborn as sns\n",
        "import matplotlib.pyplot as plt\n",
        "plt.style.use('Solarize_Light2')"
      ]
    },
    {
      "cell_type": "code",
      "execution_count": 2,
      "metadata": {
        "id": "lmkyyK2F7NE7"
      },
      "outputs": [
        {
          "name": "stderr",
          "output_type": "stream",
          "text": [
            "[nltk_data] Downloading package stopwords to\n",
            "[nltk_data]     C:\\Users\\user\\AppData\\Roaming\\nltk_data...\n",
            "[nltk_data]   Package stopwords is already up-to-date!\n"
          ]
        },
        {
          "data": {
            "text/plain": [
              "True"
            ]
          },
          "execution_count": 2,
          "metadata": {},
          "output_type": "execute_result"
        }
      ],
      "source": [
        "nltk.download('stopwords')\n"
      ]
    },
    {
      "cell_type": "code",
      "execution_count": 3,
      "metadata": {
        "colab": {
          "base_uri": "https://localhost:8080/",
          "height": 423
        },
        "id": "cSnSMbp85B-a",
        "outputId": "7ceb4613-601d-43f3-aa90-29660d8a9ebb"
      },
      "outputs": [
        {
          "data": {
            "text/html": [
              "<div>\n",
              "<style scoped>\n",
              "    .dataframe tbody tr th:only-of-type {\n",
              "        vertical-align: middle;\n",
              "    }\n",
              "\n",
              "    .dataframe tbody tr th {\n",
              "        vertical-align: top;\n",
              "    }\n",
              "\n",
              "    .dataframe thead th {\n",
              "        text-align: right;\n",
              "    }\n",
              "</style>\n",
              "<table border=\"1\" class=\"dataframe\">\n",
              "  <thead>\n",
              "    <tr style=\"text-align: right;\">\n",
              "      <th></th>\n",
              "      <th>ID</th>\n",
              "      <th>sentiment</th>\n",
              "      <th>content</th>\n",
              "    </tr>\n",
              "  </thead>\n",
              "  <tbody>\n",
              "    <tr>\n",
              "      <th>0</th>\n",
              "      <td>10941</td>\n",
              "      <td>anger</td>\n",
              "      <td>At the point today where if someone says somet...</td>\n",
              "    </tr>\n",
              "    <tr>\n",
              "      <th>1</th>\n",
              "      <td>10942</td>\n",
              "      <td>anger</td>\n",
              "      <td>@CorningFootball  IT'S GAME DAY!!!!      T MIN...</td>\n",
              "    </tr>\n",
              "    <tr>\n",
              "      <th>2</th>\n",
              "      <td>10943</td>\n",
              "      <td>anger</td>\n",
              "      <td>This game has pissed me off more than any othe...</td>\n",
              "    </tr>\n",
              "    <tr>\n",
              "      <th>3</th>\n",
              "      <td>10944</td>\n",
              "      <td>anger</td>\n",
              "      <td>@spamvicious I've just found out it's Candice ...</td>\n",
              "    </tr>\n",
              "    <tr>\n",
              "      <th>4</th>\n",
              "      <td>10945</td>\n",
              "      <td>anger</td>\n",
              "      <td>@moocowward @mrsajhargreaves @Melly77 @GaryBar...</td>\n",
              "    </tr>\n",
              "    <tr>\n",
              "      <th>...</th>\n",
              "      <td>...</td>\n",
              "      <td>...</td>\n",
              "      <td>...</td>\n",
              "    </tr>\n",
              "    <tr>\n",
              "      <th>7097</th>\n",
              "      <td>40781</td>\n",
              "      <td>sadness</td>\n",
              "      <td>@VivienLloyd Thank you so much! Just home - st...</td>\n",
              "    </tr>\n",
              "    <tr>\n",
              "      <th>7098</th>\n",
              "      <td>40782</td>\n",
              "      <td>sadness</td>\n",
              "      <td>Just put the winter duvet on ☃️❄️🌬☔️</td>\n",
              "    </tr>\n",
              "    <tr>\n",
              "      <th>7099</th>\n",
              "      <td>40783</td>\n",
              "      <td>sadness</td>\n",
              "      <td>@SilkInSide @TommyJoeRatliff that's so pretty!...</td>\n",
              "    </tr>\n",
              "    <tr>\n",
              "      <th>7100</th>\n",
              "      <td>40784</td>\n",
              "      <td>sadness</td>\n",
              "      <td>@BluesfestByron second artist announcement loo...</td>\n",
              "    </tr>\n",
              "    <tr>\n",
              "      <th>7101</th>\n",
              "      <td>40785</td>\n",
              "      <td>sadness</td>\n",
              "      <td>I can literally eat creamy pesto pasta topped ...</td>\n",
              "    </tr>\n",
              "  </tbody>\n",
              "</table>\n",
              "<p>7102 rows × 3 columns</p>\n",
              "</div>"
            ],
            "text/plain": [
              "         ID sentiment                                            content\n",
              "0     10941     anger  At the point today where if someone says somet...\n",
              "1     10942     anger  @CorningFootball  IT'S GAME DAY!!!!      T MIN...\n",
              "2     10943     anger  This game has pissed me off more than any othe...\n",
              "3     10944     anger  @spamvicious I've just found out it's Candice ...\n",
              "4     10945     anger  @moocowward @mrsajhargreaves @Melly77 @GaryBar...\n",
              "...     ...       ...                                                ...\n",
              "7097  40781   sadness  @VivienLloyd Thank you so much! Just home - st...\n",
              "7098  40782   sadness              Just put the winter duvet on ☃️❄️🌬☔️ \n",
              "7099  40783   sadness  @SilkInSide @TommyJoeRatliff that's so pretty!...\n",
              "7100  40784   sadness  @BluesfestByron second artist announcement loo...\n",
              "7101  40785   sadness  I can literally eat creamy pesto pasta topped ...\n",
              "\n",
              "[7102 rows x 3 columns]"
            ]
          },
          "execution_count": 3,
          "metadata": {},
          "output_type": "execute_result"
        }
      ],
      "source": [
        "data = pd.read_csv(\"./eng_dataset.csv\")\n",
        "data"
      ]
    },
    {
      "cell_type": "code",
      "execution_count": 4,
      "metadata": {
        "colab": {
          "base_uri": "https://localhost:8080/"
        },
        "id": "HcPHK3j46VLf",
        "outputId": "a0ffe3e2-959f-4f86-86e4-08057ed6ea2a"
      },
      "outputs": [
        {
          "data": {
            "text/plain": [
              "fear       2252\n",
              "anger      1701\n",
              "joy        1616\n",
              "sadness    1533\n",
              "Name: sentiment, dtype: int64"
            ]
          },
          "execution_count": 4,
          "metadata": {},
          "output_type": "execute_result"
        }
      ],
      "source": [
        "data[\"sentiment\"].value_counts()"
      ]
    },
    {
      "cell_type": "code",
      "execution_count": 5,
      "metadata": {
        "id": "ZCuQYRev6jp4"
      },
      "outputs": [],
      "source": [
        "copy = data.copy()"
      ]
    },
    {
      "cell_type": "code",
      "execution_count": 6,
      "metadata": {
        "colab": {
          "base_uri": "https://localhost:8080/",
          "height": 206
        },
        "id": "sMKiIQZzBZuU",
        "outputId": "8ba1df81-eaa1-4744-fecd-c21af8dc399e"
      },
      "outputs": [
        {
          "data": {
            "text/html": [
              "<div>\n",
              "<style scoped>\n",
              "    .dataframe tbody tr th:only-of-type {\n",
              "        vertical-align: middle;\n",
              "    }\n",
              "\n",
              "    .dataframe tbody tr th {\n",
              "        vertical-align: top;\n",
              "    }\n",
              "\n",
              "    .dataframe thead th {\n",
              "        text-align: right;\n",
              "    }\n",
              "</style>\n",
              "<table border=\"1\" class=\"dataframe\">\n",
              "  <thead>\n",
              "    <tr style=\"text-align: right;\">\n",
              "      <th></th>\n",
              "      <th>ID</th>\n",
              "      <th>sentiment</th>\n",
              "      <th>content</th>\n",
              "    </tr>\n",
              "  </thead>\n",
              "  <tbody>\n",
              "    <tr>\n",
              "      <th>0</th>\n",
              "      <td>10941</td>\n",
              "      <td>anger</td>\n",
              "      <td>At the point today where if someone says somet...</td>\n",
              "    </tr>\n",
              "    <tr>\n",
              "      <th>1</th>\n",
              "      <td>10942</td>\n",
              "      <td>anger</td>\n",
              "      <td>@CorningFootball  IT'S GAME DAY!!!!      T MIN...</td>\n",
              "    </tr>\n",
              "    <tr>\n",
              "      <th>2</th>\n",
              "      <td>10943</td>\n",
              "      <td>anger</td>\n",
              "      <td>This game has pissed me off more than any othe...</td>\n",
              "    </tr>\n",
              "    <tr>\n",
              "      <th>3</th>\n",
              "      <td>10944</td>\n",
              "      <td>anger</td>\n",
              "      <td>@spamvicious I've just found out it's Candice ...</td>\n",
              "    </tr>\n",
              "    <tr>\n",
              "      <th>4</th>\n",
              "      <td>10945</td>\n",
              "      <td>anger</td>\n",
              "      <td>@moocowward @mrsajhargreaves @Melly77 @GaryBar...</td>\n",
              "    </tr>\n",
              "  </tbody>\n",
              "</table>\n",
              "</div>"
            ],
            "text/plain": [
              "      ID sentiment                                            content\n",
              "0  10941     anger  At the point today where if someone says somet...\n",
              "1  10942     anger  @CorningFootball  IT'S GAME DAY!!!!      T MIN...\n",
              "2  10943     anger  This game has pissed me off more than any othe...\n",
              "3  10944     anger  @spamvicious I've just found out it's Candice ...\n",
              "4  10945     anger  @moocowward @mrsajhargreaves @Melly77 @GaryBar..."
            ]
          },
          "execution_count": 6,
          "metadata": {},
          "output_type": "execute_result"
        }
      ],
      "source": [
        "data.head()"
      ]
    },
    {
      "cell_type": "markdown",
      "metadata": {
        "id": "19RHY4OxBRSQ"
      },
      "source": [
        "# Preprocessing"
      ]
    },
    {
      "cell_type": "code",
      "execution_count": 7,
      "metadata": {},
      "outputs": [
        {
          "data": {
            "text/html": [
              "<div>\n",
              "<style scoped>\n",
              "    .dataframe tbody tr th:only-of-type {\n",
              "        vertical-align: middle;\n",
              "    }\n",
              "\n",
              "    .dataframe tbody tr th {\n",
              "        vertical-align: top;\n",
              "    }\n",
              "\n",
              "    .dataframe thead th {\n",
              "        text-align: right;\n",
              "    }\n",
              "</style>\n",
              "<table border=\"1\" class=\"dataframe\">\n",
              "  <thead>\n",
              "    <tr style=\"text-align: right;\">\n",
              "      <th></th>\n",
              "      <th>content</th>\n",
              "    </tr>\n",
              "  </thead>\n",
              "  <tbody>\n",
              "    <tr>\n",
              "      <th>0</th>\n",
              "      <td>At the point today where if someone says somet...</td>\n",
              "    </tr>\n",
              "    <tr>\n",
              "      <th>1</th>\n",
              "      <td>@CorningFootball  IT'S GAME DAY!!!!      T MIN...</td>\n",
              "    </tr>\n",
              "    <tr>\n",
              "      <th>2</th>\n",
              "      <td>This game has pissed me off more than any othe...</td>\n",
              "    </tr>\n",
              "    <tr>\n",
              "      <th>3</th>\n",
              "      <td>@spamvicious I've just found out it's Candice ...</td>\n",
              "    </tr>\n",
              "    <tr>\n",
              "      <th>4</th>\n",
              "      <td>@moocowward @mrsajhargreaves @Melly77 @GaryBar...</td>\n",
              "    </tr>\n",
              "    <tr>\n",
              "      <th>...</th>\n",
              "      <td>...</td>\n",
              "    </tr>\n",
              "    <tr>\n",
              "      <th>7097</th>\n",
              "      <td>@VivienLloyd Thank you so much! Just home - st...</td>\n",
              "    </tr>\n",
              "    <tr>\n",
              "      <th>7098</th>\n",
              "      <td>Just put the winter duvet on ☃️❄️🌬☔️</td>\n",
              "    </tr>\n",
              "    <tr>\n",
              "      <th>7099</th>\n",
              "      <td>@SilkInSide @TommyJoeRatliff that's so pretty!...</td>\n",
              "    </tr>\n",
              "    <tr>\n",
              "      <th>7100</th>\n",
              "      <td>@BluesfestByron second artist announcement loo...</td>\n",
              "    </tr>\n",
              "    <tr>\n",
              "      <th>7101</th>\n",
              "      <td>I can literally eat creamy pesto pasta topped ...</td>\n",
              "    </tr>\n",
              "  </tbody>\n",
              "</table>\n",
              "<p>7102 rows × 1 columns</p>\n",
              "</div>"
            ],
            "text/plain": [
              "                                                content\n",
              "0     At the point today where if someone says somet...\n",
              "1     @CorningFootball  IT'S GAME DAY!!!!      T MIN...\n",
              "2     This game has pissed me off more than any othe...\n",
              "3     @spamvicious I've just found out it's Candice ...\n",
              "4     @moocowward @mrsajhargreaves @Melly77 @GaryBar...\n",
              "...                                                 ...\n",
              "7097  @VivienLloyd Thank you so much! Just home - st...\n",
              "7098              Just put the winter duvet on ☃️❄️🌬☔️ \n",
              "7099  @SilkInSide @TommyJoeRatliff that's so pretty!...\n",
              "7100  @BluesfestByron second artist announcement loo...\n",
              "7101  I can literally eat creamy pesto pasta topped ...\n",
              "\n",
              "[7102 rows x 1 columns]"
            ]
          },
          "execution_count": 7,
          "metadata": {},
          "output_type": "execute_result"
        }
      ],
      "source": [
        "data[[\"content\"]]"
      ]
    },
    {
      "attachments": {},
      "cell_type": "markdown",
      "metadata": {},
      "source": [
        "### lowercase\n"
      ]
    },
    {
      "cell_type": "code",
      "execution_count": 8,
      "metadata": {
        "id": "F_FcVrpu7Fwk"
      },
      "outputs": [],
      "source": [
        "#convert uppercase letters to lower case\n",
        "data['content'] = data['content'].apply(lambda x: \" \".join(x.lower() for x in x.split()))"
      ]
    },
    {
      "cell_type": "code",
      "execution_count": 9,
      "metadata": {},
      "outputs": [
        {
          "data": {
            "text/html": [
              "<div>\n",
              "<style scoped>\n",
              "    .dataframe tbody tr th:only-of-type {\n",
              "        vertical-align: middle;\n",
              "    }\n",
              "\n",
              "    .dataframe tbody tr th {\n",
              "        vertical-align: top;\n",
              "    }\n",
              "\n",
              "    .dataframe thead th {\n",
              "        text-align: right;\n",
              "    }\n",
              "</style>\n",
              "<table border=\"1\" class=\"dataframe\">\n",
              "  <thead>\n",
              "    <tr style=\"text-align: right;\">\n",
              "      <th></th>\n",
              "      <th>content</th>\n",
              "    </tr>\n",
              "  </thead>\n",
              "  <tbody>\n",
              "    <tr>\n",
              "      <th>0</th>\n",
              "      <td>at the point today where if someone says somet...</td>\n",
              "    </tr>\n",
              "    <tr>\n",
              "      <th>1</th>\n",
              "      <td>@corningfootball it's game day!!!! t minus 14:...</td>\n",
              "    </tr>\n",
              "    <tr>\n",
              "      <th>2</th>\n",
              "      <td>this game has pissed me off more than any othe...</td>\n",
              "    </tr>\n",
              "    <tr>\n",
              "      <th>3</th>\n",
              "      <td>@spamvicious i've just found out it's candice ...</td>\n",
              "    </tr>\n",
              "    <tr>\n",
              "      <th>4</th>\n",
              "      <td>@moocowward @mrsajhargreaves @melly77 @garybar...</td>\n",
              "    </tr>\n",
              "  </tbody>\n",
              "</table>\n",
              "</div>"
            ],
            "text/plain": [
              "                                             content\n",
              "0  at the point today where if someone says somet...\n",
              "1  @corningfootball it's game day!!!! t minus 14:...\n",
              "2  this game has pissed me off more than any othe...\n",
              "3  @spamvicious i've just found out it's candice ...\n",
              "4  @moocowward @mrsajhargreaves @melly77 @garybar..."
            ]
          },
          "execution_count": 9,
          "metadata": {},
          "output_type": "execute_result"
        }
      ],
      "source": [
        "data[[\"content\"]].head()"
      ]
    },
    {
      "attachments": {},
      "cell_type": "markdown",
      "metadata": {},
      "source": [
        "### removing special characters and ponctuation"
      ]
    },
    {
      "cell_type": "code",
      "execution_count": 10,
      "metadata": {},
      "outputs": [
        {
          "name": "stderr",
          "output_type": "stream",
          "text": [
            "C:\\Users\\user\\AppData\\Local\\Temp\\ipykernel_5128\\2675422991.py:2: FutureWarning: The default value of regex will change from True to False in a future version.\n",
            "  data['content'] = data['content'].str.replace('[^\\w\\s]','')\n"
          ]
        }
      ],
      "source": [
        "#remove white spaces and special characters\n",
        "data['content'] = data['content'].str.replace('[^\\w\\s]','')"
      ]
    },
    {
      "cell_type": "code",
      "execution_count": 11,
      "metadata": {},
      "outputs": [
        {
          "data": {
            "text/html": [
              "<div>\n",
              "<style scoped>\n",
              "    .dataframe tbody tr th:only-of-type {\n",
              "        vertical-align: middle;\n",
              "    }\n",
              "\n",
              "    .dataframe tbody tr th {\n",
              "        vertical-align: top;\n",
              "    }\n",
              "\n",
              "    .dataframe thead th {\n",
              "        text-align: right;\n",
              "    }\n",
              "</style>\n",
              "<table border=\"1\" class=\"dataframe\">\n",
              "  <thead>\n",
              "    <tr style=\"text-align: right;\">\n",
              "      <th></th>\n",
              "      <th>content</th>\n",
              "    </tr>\n",
              "  </thead>\n",
              "  <tbody>\n",
              "    <tr>\n",
              "      <th>0</th>\n",
              "      <td>at the point today where if someone says somet...</td>\n",
              "    </tr>\n",
              "    <tr>\n",
              "      <th>1</th>\n",
              "      <td>corningfootball its game day t minus 1430 rele...</td>\n",
              "    </tr>\n",
              "    <tr>\n",
              "      <th>2</th>\n",
              "      <td>this game has pissed me off more than any othe...</td>\n",
              "    </tr>\n",
              "    <tr>\n",
              "      <th>3</th>\n",
              "      <td>spamvicious ive just found out its candice and...</td>\n",
              "    </tr>\n",
              "    <tr>\n",
              "      <th>4</th>\n",
              "      <td>moocowward mrsajhargreaves melly77 garybarlow ...</td>\n",
              "    </tr>\n",
              "  </tbody>\n",
              "</table>\n",
              "</div>"
            ],
            "text/plain": [
              "                                             content\n",
              "0  at the point today where if someone says somet...\n",
              "1  corningfootball its game day t minus 1430 rele...\n",
              "2  this game has pissed me off more than any othe...\n",
              "3  spamvicious ive just found out its candice and...\n",
              "4  moocowward mrsajhargreaves melly77 garybarlow ..."
            ]
          },
          "execution_count": 11,
          "metadata": {},
          "output_type": "execute_result"
        }
      ],
      "source": [
        "data[[\"content\"]].head()\n"
      ]
    },
    {
      "attachments": {},
      "cell_type": "markdown",
      "metadata": {},
      "source": [
        "### removing stopwords"
      ]
    },
    {
      "cell_type": "code",
      "execution_count": 12,
      "metadata": {},
      "outputs": [],
      "source": [
        "stop = stopwords.words(\"english\")"
      ]
    },
    {
      "cell_type": "code",
      "execution_count": 13,
      "metadata": {},
      "outputs": [],
      "source": [
        "data[\"content\"] = data[\"content\"].apply(lambda x: \" \".join(x for x in x.split() if x not in stop))\n"
      ]
    },
    {
      "cell_type": "code",
      "execution_count": 14,
      "metadata": {},
      "outputs": [
        {
          "data": {
            "text/html": [
              "<div>\n",
              "<style scoped>\n",
              "    .dataframe tbody tr th:only-of-type {\n",
              "        vertical-align: middle;\n",
              "    }\n",
              "\n",
              "    .dataframe tbody tr th {\n",
              "        vertical-align: top;\n",
              "    }\n",
              "\n",
              "    .dataframe thead th {\n",
              "        text-align: right;\n",
              "    }\n",
              "</style>\n",
              "<table border=\"1\" class=\"dataframe\">\n",
              "  <thead>\n",
              "    <tr style=\"text-align: right;\">\n",
              "      <th></th>\n",
              "      <th>content</th>\n",
              "    </tr>\n",
              "  </thead>\n",
              "  <tbody>\n",
              "    <tr>\n",
              "      <th>0</th>\n",
              "      <td>point today someone says something remotely ki...</td>\n",
              "    </tr>\n",
              "    <tr>\n",
              "      <th>1</th>\n",
              "      <td>corningfootball game day minus 1430 relentless</td>\n",
              "    </tr>\n",
              "    <tr>\n",
              "      <th>2</th>\n",
              "      <td>game pissed game year blood boiling time turn ...</td>\n",
              "    </tr>\n",
              "    <tr>\n",
              "      <th>3</th>\n",
              "      <td>spamvicious ive found candice candace pout lik...</td>\n",
              "    </tr>\n",
              "    <tr>\n",
              "      <th>4</th>\n",
              "      <td>moocowward mrsajhargreaves melly77 garybarlow ...</td>\n",
              "    </tr>\n",
              "  </tbody>\n",
              "</table>\n",
              "</div>"
            ],
            "text/plain": [
              "                                             content\n",
              "0  point today someone says something remotely ki...\n",
              "1     corningfootball game day minus 1430 relentless\n",
              "2  game pissed game year blood boiling time turn ...\n",
              "3  spamvicious ive found candice candace pout lik...\n",
              "4  moocowward mrsajhargreaves melly77 garybarlow ..."
            ]
          },
          "execution_count": 14,
          "metadata": {},
          "output_type": "execute_result"
        }
      ],
      "source": [
        "data[[\"content\"]].head()\n"
      ]
    },
    {
      "attachments": {},
      "cell_type": "markdown",
      "metadata": {},
      "source": [
        "### correct spelling\n"
      ]
    },
    {
      "cell_type": "code",
      "execution_count": 15,
      "metadata": {},
      "outputs": [],
      "source": [
        "# data[[\"content\"]] = data[[\"content\"]].apply(lambda x: str(TextBlob(x).correct()))"
      ]
    },
    {
      "cell_type": "code",
      "execution_count": 16,
      "metadata": {},
      "outputs": [
        {
          "data": {
            "text/html": [
              "<div>\n",
              "<style scoped>\n",
              "    .dataframe tbody tr th:only-of-type {\n",
              "        vertical-align: middle;\n",
              "    }\n",
              "\n",
              "    .dataframe tbody tr th {\n",
              "        vertical-align: top;\n",
              "    }\n",
              "\n",
              "    .dataframe thead th {\n",
              "        text-align: right;\n",
              "    }\n",
              "</style>\n",
              "<table border=\"1\" class=\"dataframe\">\n",
              "  <thead>\n",
              "    <tr style=\"text-align: right;\">\n",
              "      <th></th>\n",
              "      <th>content</th>\n",
              "    </tr>\n",
              "  </thead>\n",
              "  <tbody>\n",
              "    <tr>\n",
              "      <th>0</th>\n",
              "      <td>point today someone says something remotely ki...</td>\n",
              "    </tr>\n",
              "    <tr>\n",
              "      <th>1</th>\n",
              "      <td>corningfootball game day minus 1430 relentless</td>\n",
              "    </tr>\n",
              "    <tr>\n",
              "      <th>2</th>\n",
              "      <td>game pissed game year blood boiling time turn ...</td>\n",
              "    </tr>\n",
              "    <tr>\n",
              "      <th>3</th>\n",
              "      <td>spamvicious ive found candice candace pout lik...</td>\n",
              "    </tr>\n",
              "    <tr>\n",
              "      <th>4</th>\n",
              "      <td>moocowward mrsajhargreaves melly77 garybarlow ...</td>\n",
              "    </tr>\n",
              "  </tbody>\n",
              "</table>\n",
              "</div>"
            ],
            "text/plain": [
              "                                             content\n",
              "0  point today someone says something remotely ki...\n",
              "1     corningfootball game day minus 1430 relentless\n",
              "2  game pissed game year blood boiling time turn ...\n",
              "3  spamvicious ive found candice candace pout lik...\n",
              "4  moocowward mrsajhargreaves melly77 garybarlow ..."
            ]
          },
          "execution_count": 16,
          "metadata": {},
          "output_type": "execute_result"
        }
      ],
      "source": [
        "data[[\"content\"]].head()\n"
      ]
    },
    {
      "attachments": {},
      "cell_type": "markdown",
      "metadata": {},
      "source": [
        "### stemming\n"
      ]
    },
    {
      "cell_type": "code",
      "execution_count": 17,
      "metadata": {},
      "outputs": [],
      "source": [
        "st = PorterStemmer()\n",
        "data[\"content\"] = data[\"content\"].apply(lambda x: \" \".join([st.stem(word) for word in x.split()]))"
      ]
    },
    {
      "cell_type": "code",
      "execution_count": 18,
      "metadata": {},
      "outputs": [
        {
          "data": {
            "text/html": [
              "<div>\n",
              "<style scoped>\n",
              "    .dataframe tbody tr th:only-of-type {\n",
              "        vertical-align: middle;\n",
              "    }\n",
              "\n",
              "    .dataframe tbody tr th {\n",
              "        vertical-align: top;\n",
              "    }\n",
              "\n",
              "    .dataframe thead th {\n",
              "        text-align: right;\n",
              "    }\n",
              "</style>\n",
              "<table border=\"1\" class=\"dataframe\">\n",
              "  <thead>\n",
              "    <tr style=\"text-align: right;\">\n",
              "      <th></th>\n",
              "      <th>content</th>\n",
              "    </tr>\n",
              "  </thead>\n",
              "  <tbody>\n",
              "    <tr>\n",
              "      <th>0</th>\n",
              "      <td>point today someon say someth remot kind water...</td>\n",
              "    </tr>\n",
              "    <tr>\n",
              "      <th>1</th>\n",
              "      <td>corningfootbal game day minu 1430 relentless</td>\n",
              "    </tr>\n",
              "    <tr>\n",
              "      <th>2</th>\n",
              "      <td>game piss game year blood boil time turn stlcard</td>\n",
              "    </tr>\n",
              "    <tr>\n",
              "      <th>3</th>\n",
              "      <td>spamvici ive found candic candac pout like ðÿ</td>\n",
              "    </tr>\n",
              "    <tr>\n",
              "      <th>4</th>\n",
              "      <td>moocowward mrsajhargreav melly77 garybarlow ca...</td>\n",
              "    </tr>\n",
              "  </tbody>\n",
              "</table>\n",
              "</div>"
            ],
            "text/plain": [
              "                                             content\n",
              "0  point today someon say someth remot kind water...\n",
              "1       corningfootbal game day minu 1430 relentless\n",
              "2   game piss game year blood boil time turn stlcard\n",
              "3      spamvici ive found candic candac pout like ðÿ\n",
              "4  moocowward mrsajhargreav melly77 garybarlow ca..."
            ]
          },
          "execution_count": 18,
          "metadata": {},
          "output_type": "execute_result"
        }
      ],
      "source": [
        "data[[\"content\"]].head()"
      ]
    },
    {
      "attachments": {},
      "cell_type": "markdown",
      "metadata": {},
      "source": [
        "# label encoding"
      ]
    },
    {
      "cell_type": "code",
      "execution_count": 19,
      "metadata": {},
      "outputs": [
        {
          "data": {
            "text/plain": [
              "fear       2252\n",
              "anger      1701\n",
              "joy        1616\n",
              "sadness    1533\n",
              "Name: sentiment, dtype: int64"
            ]
          },
          "execution_count": 19,
          "metadata": {},
          "output_type": "execute_result"
        }
      ],
      "source": [
        "data[\"sentiment\"].value_counts()"
      ]
    },
    {
      "cell_type": "code",
      "execution_count": 20,
      "metadata": {},
      "outputs": [],
      "source": [
        "le = preprocessing.LabelEncoder()\n",
        "data[\"sentiment\"] = le.fit_transform(data[\"sentiment\"])"
      ]
    },
    {
      "cell_type": "code",
      "execution_count": 21,
      "metadata": {},
      "outputs": [
        {
          "data": {
            "text/plain": [
              "1    2252\n",
              "0    1701\n",
              "2    1616\n",
              "3    1533\n",
              "Name: sentiment, dtype: int64"
            ]
          },
          "execution_count": 21,
          "metadata": {},
          "output_type": "execute_result"
        }
      ],
      "source": [
        "data[\"sentiment\"].value_counts()"
      ]
    },
    {
      "attachments": {},
      "cell_type": "markdown",
      "metadata": {},
      "source": [
        "## train_test_split"
      ]
    },
    {
      "cell_type": "code",
      "execution_count": 22,
      "metadata": {},
      "outputs": [],
      "source": [
        "X_train, X_test, y_train, y_test = model_selection.train_test_split(data[\"content\"], data[\"sentiment\"], test_size=0.2, random_state=42, stratify=data[\"sentiment\"])"
      ]
    },
    {
      "attachments": {},
      "cell_type": "markdown",
      "metadata": {},
      "source": [
        "# feature engineering\n"
      ]
    },
    {
      "cell_type": "code",
      "execution_count": 23,
      "metadata": {},
      "outputs": [],
      "source": [
        "cv = CountVectorizer()\n",
        "cv.fit(data[\"content\"])\n",
        "\n",
        "cv_xtrain = cv.transform(X_train)\n",
        "cv_xtest = cv.transform(X_test)"
      ]
    },
    {
      "cell_type": "code",
      "execution_count": 24,
      "metadata": {},
      "outputs": [],
      "source": [
        "tv = TfidfVectorizer()\n",
        "tv.fit(data[\"content\"])\n",
        "\n",
        "tv_xtrain = tv.transform(X_train)\n",
        "tv_xtest = tv.transform(X_test)"
      ]
    },
    {
      "cell_type": "markdown",
      "metadata": {},
      "source": [
        "# model building phase"
      ]
    },
    {
      "cell_type": "code",
      "execution_count": 32,
      "metadata": {},
      "outputs": [],
      "source": [
        "def build(model_initializer, independant_variables_train,target ,independant_variables_test, target_test) : \n",
        "    model = model_initializer\n",
        "    model.fit(independant_variables_train,target)\n",
        "    prediction = model.predict(independant_variables_test)\n",
        "    return metrics.accuracy_score(prediction, target_test)"
      ]
    },
    {
      "attachments": {},
      "cell_type": "markdown",
      "metadata": {},
      "source": [
        "### naive bayes\n"
      ]
    },
    {
      "cell_type": "code",
      "execution_count": 33,
      "metadata": {},
      "outputs": [
        {
          "name": "stdout",
          "output_type": "stream",
          "text": [
            "0.8451794510907812\n",
            "0.7698803659394793\n"
          ]
        }
      ],
      "source": [
        "# for CV\n",
        "output = build(naive_bayes.MultinomialNB(), cv_xtrain, y_train  , cv_xtest, y_test)\n",
        "print(output)\n",
        "# for TF-IDF\n",
        "output = build(naive_bayes.MultinomialNB(), tv_xtrain, y_train, tv_xtest, y_test)\n",
        "print(output)"
      ]
    },
    {
      "attachments": {},
      "cell_type": "markdown",
      "metadata": {},
      "source": [
        "### logistic regression\n",
        "\n"
      ]
    },
    {
      "cell_type": "code",
      "execution_count": 34,
      "metadata": {},
      "outputs": [
        {
          "name": "stdout",
          "output_type": "stream",
          "text": [
            "0.88036593947924\n",
            "0.8698099929627023\n"
          ]
        }
      ],
      "source": [
        "output = build(linear_model.LogisticRegression(), cv_xtrain, y_train, cv_xtest, y_test)\n",
        "print(output)\n",
        "\n",
        "output = build(linear_model.LogisticRegression(), tv_xtrain, y_train, tv_xtest , y_test)\n",
        "print(output)"
      ]
    },
    {
      "attachments": {},
      "cell_type": "markdown",
      "metadata": {},
      "source": [
        "### svm\n",
        "\n",
        "\n"
      ]
    },
    {
      "cell_type": "code",
      "execution_count": 35,
      "metadata": {},
      "outputs": [
        {
          "name": "stdout",
          "output_type": "stream",
          "text": [
            "0.872624912033779\n",
            "0.8831808585503167\n"
          ]
        }
      ],
      "source": [
        "#for cv\n",
        "output = build(svm.SVC(), cv_xtrain, y_train, cv_xtest, y_test)\n",
        "print(output)\n",
        "\n",
        "#for TF-IDF \n",
        "output = build(svm.SVC(), tv_xtrain, y_train, tv_xtest, y_test)\n",
        "print(output)"
      ]
    },
    {
      "attachments": {},
      "cell_type": "markdown",
      "metadata": {},
      "source": [
        "### random forest\n",
        "\n",
        "\n"
      ]
    },
    {
      "cell_type": "code",
      "execution_count": 36,
      "metadata": {},
      "outputs": [
        {
          "name": "stdout",
          "output_type": "stream",
          "text": [
            "0.8768472906403941\n",
            "0.8669950738916257\n"
          ]
        }
      ],
      "source": [
        "#for CV\n",
        "output = build(ensemble.RandomForestClassifier(), cv_xtrain, y_train, cv_xtest, y_test)\n",
        "print(output)\n",
        "\n",
        "#for TF-IDF \n",
        "output = build(ensemble.RandomForestClassifier(), tv_xtrain, y_train, tv_xtest, y_test)\n",
        "print(output)"
      ]
    },
    {
      "cell_type": "markdown",
      "metadata": {},
      "source": [
        "# building SVM Model using TF-IDF as features as the accuracy is better compared to other models\n"
      ]
    },
    {
      "cell_type": "code",
      "execution_count": 38,
      "metadata": {},
      "outputs": [
        {
          "name": "stdout",
          "output_type": "stream",
          "text": [
            "              precision    recall  f1-score   support\n",
            "\n",
            "           0       0.92      0.87      0.89       340\n",
            "           1       0.83      0.96      0.89       451\n",
            "           2       0.97      0.90      0.93       323\n",
            "           3       0.86      0.77      0.81       307\n",
            "\n",
            "    accuracy                           0.88      1421\n",
            "   macro avg       0.89      0.87      0.88      1421\n",
            "weighted avg       0.89      0.88      0.88      1421\n",
            "\n",
            "\n"
          ]
        }
      ],
      "source": [
        "classifier = svm.SVC().fit(tv_xtrain, y_train)\n",
        "val_predictions = classifier.predict(tv_xtest)\n",
        "\n",
        "# Precision , Recall , F1 - score , Support\n",
        "y_true, y_pred = y_test, val_predictions\n",
        "print(classification_report(y_true, y_pred))\n",
        "print()"
      ]
    },
    {
      "cell_type": "code",
      "execution_count": 44,
      "metadata": {},
      "outputs": [
        {
          "data": {
            "image/png": "[encoded data removed]",
            "text/plain": [
              "<Figure size 1000x1000 with 2 Axes>"
            ]
          },
          "metadata": {},
          "output_type": "display_data"
        }
      ],
      "source": [
        "conf_mat = confusion_matrix(y_true, y_pred)\n",
        "fig, ax = plt.subplots(figsize=(10,10))\n",
        "sns.heatmap(conf_mat, annot=True, fmt='d',\n",
        "            xticklabels=le.classes_, yticklabels=le.classes_)\n",
        "plt.ylabel('Actual')\n",
        "plt.xlabel('Predicted')\n",
        "plt.show()\n"
      ]
    },
    {
      "attachments": {},
      "cell_type": "markdown",
      "metadata": {},
      "source": [
        "# Extracting the twitter data for the emotion predictions and sentiment"
      ]
    },
    {
      "cell_type": "code",
      "execution_count": 67,
      "metadata": {},
      "outputs": [],
      "source": [
        "import tweepy\n",
        "from tweepy import OAuthHandler\n",
        "import json\n",
        "import datetime as dt\n",
        "import time\n",
        "import os\n",
        "import sys\n",
        "\n",
        "\n",
        "'''\n",
        "In order to use this script you should register a data-mining application\n",
        "with Twitter.  Good instructions for doing so can be found here:\n",
        "http://marcobonzanini.com/2015/03/02/mining-twitter-data-with-python-part-1/\n",
        "\n",
        "After doing this you can copy and paste your unique consumer key,\n",
        "consumer secret, access token, and access secret into the load_api()\n",
        "function below.\n",
        "\n",
        "The main() function can be run by executing the command: \n",
        "python twitter_search.py\n",
        "\n",
        "I used Python 3 and tweepy version 3.5.0.  You will also need the other\n",
        "packages imported above.\n",
        "'''\n",
        "\n",
        "def load_api():\n",
        "    ''' Function that loads the twitter API after authorizing the user. '''\n",
        "\n",
        "    consumer_key = ''\n",
        "    consumer_secret = ''\n",
        "    access_token = ''\n",
        "    access_secret = ''\n",
        "    auth = OAuthHandler(consumer_key, consumer_secret)\n",
        "    auth.set_access_token(access_token, access_secret)\n",
        "    # load the twitter API via tweepy\n",
        "    return tweepy.API(auth)\n",
        "\n",
        "    \n",
        "def tweet_search(api, query, max_tweets, max_id, since_id, geocode):\n",
        "    ''' Function that takes in a search string 'query', the maximum\n",
        "        number of tweets 'max_tweets', and the minimum (i.e., starting)\n",
        "        tweet id. It returns a list of tweepy.models.Status objects. '''\n",
        "\n",
        "    searched_tweets = []\n",
        "    while len(searched_tweets) < max_tweets:\n",
        "        remaining_tweets = max_tweets - len(searched_tweets)\n",
        "        try:\n",
        "            new_tweets = api.search(q=query, count=remaining_tweets,\n",
        "                                    since_id=str(since_id),\n",
        "\t\t\t\t                    max_id=str(max_id-1))\n",
        "#                                    geocode=geocode)\n",
        "            print('found',len(new_tweets),'tweets')\n",
        "            if not new_tweets:\n",
        "                print('no tweets found')\n",
        "                break\n",
        "            searched_tweets.extend(new_tweets)\n",
        "            max_id = new_tweets[-1].id\n",
        "        except tweepy.TweepError:\n",
        "            print('exception raised, waiting 15 minutes')\n",
        "            print('(until:', dt.datetime.now()+dt.timedelta(minutes=15), ')')\n",
        "            time.sleep(15*60)\n",
        "            break # stop the loop\n",
        "    return searched_tweets, max_id\n",
        "\n",
        "\n",
        "def get_tweet_id(api, date='', days_ago=9, query='a'):\n",
        "    ''' Function that gets the ID of a tweet. This ID can then be\n",
        "        used as a 'starting point' from which to search. The query is\n",
        "        required and has been set to a commonly used word by default.\n",
        "        The variable 'days_ago' has been initialized to the maximum\n",
        "        amount we are able to search back in time (9).'''\n",
        "\n",
        "    if date:\n",
        "        # return an ID from the start of the given day\n",
        "        td = date + dt.timedelta(days=1)\n",
        "        tweet_date = '{0}-{1:0>2}-{2:0>2}'.format(td.year, td.month, td.day)\n",
        "        tweet = api.search(q=query, count=1, until=tweet_date)\n",
        "    else:\n",
        "        # return an ID from __ days ago\n",
        "        td = dt.datetime.now() - dt.timedelta(days=days_ago)\n",
        "        tweet_date = '{0}-{1:0>2}-{2:0>2}'.format(td.year, td.month, td.day)\n",
        "        # get list of up to 10 tweets\n",
        "        tweet = api.search(q=query, count=10, until=tweet_date)\n",
        "        print('search limit (start/stop):',tweet[0].created_at)\n",
        "        # return the id of the first tweet in the list\n",
        "        return tweet[0].id\n",
        "\n",
        "\n",
        "def write_tweets(tweets, filename):\n",
        "    ''' Function that appends tweets to a file. '''\n",
        "\n",
        "    with open(filename, 'a') as f:\n",
        "        for tweet in tweets:\n",
        "            json.dump(tweet._json, f)\n",
        "            f.write('\\n')\n",
        "\n",
        "\n",
        "def main():\n",
        "    ''' This is a script that continuously searches for tweets\n",
        "        that were created over a given number of days. The search\n",
        "        dates and search phrase can be changed below. '''\n",
        "\n",
        "\n",
        "\n",
        "    ''' search variables: '''\n",
        "    search_phrases = ['Pavelski', 'Lucic', \n",
        "                     'Ovechkin', 'Giroux',\n",
        "                     'Jagr', 'John Tavares',\n",
        "                     'Kucherov', 'Mrazek',\n",
        "                     'Seguin', 'Pominville',\n",
        "                     'Crosby', 'Lundqvist',\n",
        "                     'Tarasenko', 'Patrick Kane',\n",
        "                     'Cory Perry', 'Forsberg']\n",
        "    time_limit = 1.5                           # runtime limit in hours\n",
        "    max_tweets = 100                           # number of tweets per search (will be\n",
        "                                               # iterated over) - maximum is 100\n",
        "    min_days_old, max_days_old = 6, 7          # search limits e.g., from 7 to 8\n",
        "                                               # gives current weekday from last week,\n",
        "                                               # min_days_old=0 will search from right now\n",
        "    USA = '39.8,-95.583068847656,2500km'       # this geocode includes nearly all American\n",
        "                                               # states (and a large portion of Canada)\n",
        "    \n",
        "\n",
        "    # loop over search items,\n",
        "    # creating a new file for each\n",
        "    for search_phrase in search_phrases:\n",
        "\n",
        "        print('Search phrase =', search_phrase)\n",
        "\n",
        "        ''' other variables '''\n",
        "        name = search_phrase.split()[0]\n",
        "        json_file_root = name + '/'  + name\n",
        "        os.makedirs(os.path.dirname(json_file_root), exist_ok=True)\n",
        "        read_IDs = False\n",
        "        \n",
        "        # open a file in which to store the tweets\n",
        "        if max_days_old - min_days_old == 1:\n",
        "            d = dt.datetime.now() - dt.timedelta(days=min_days_old)\n",
        "            day = '{0}-{1:0>2}-{2:0>2}'.format(d.year, d.month, d.day)\n",
        "        else:\n",
        "            d1 = dt.datetime.now() - dt.timedelta(days=max_days_old-1)\n",
        "            d2 = dt.datetime.now() - dt.timedelta(days=min_days_old)\n",
        "            day = '{0}-{1:0>2}-{2:0>2}_to_{3}-{4:0>2}-{5:0>2}'.format(\n",
        "                  d1.year, d1.month, d1.day, d2.year, d2.month, d2.day)\n",
        "        json_file = json_file_root + '_' + day + '.json'\n",
        "        if os.path.isfile(json_file):\n",
        "            print('Appending tweets to file named: ',json_file)\n",
        "            read_IDs = True\n",
        "        \n",
        "        # authorize and load the twitter API\n",
        "        api = load_api()\n",
        "        \n",
        "        # set the 'starting point' ID for tweet collection\n",
        "        if read_IDs:\n",
        "            # open the json file and get the latest tweet ID\n",
        "            with open(json_file, 'r') as f:\n",
        "                lines = f.readlines()\n",
        "                max_id = json.loads(lines[-1])['id']\n",
        "                print('Searching from the bottom ID in file')\n",
        "        else:\n",
        "            # get the ID of a tweet that is min_days_old\n",
        "            if min_days_old == 0:\n",
        "                max_id = -1\n",
        "            else:\n",
        "                max_id = get_tweet_id(api, days_ago=(min_days_old-1))\n",
        "        # set the smallest ID to search for\n",
        "        since_id = get_tweet_id(api, days_ago=(max_days_old-1))\n",
        "        print('max id (starting point) =', max_id)\n",
        "        print('since id (ending point) =', since_id)\n",
        "        \n",
        "\n",
        "\n",
        "        ''' tweet gathering loop  '''\n",
        "        start = dt.datetime.now()\n",
        "        end = start + dt.timedelta(hours=time_limit)\n",
        "        count, exitcount = 0, 0\n",
        "        while dt.datetime.now() < end:\n",
        "            count += 1\n",
        "            print('count =',count)\n",
        "            # collect tweets and update max_id\n",
        "            tweets, max_id = tweet_search(api, search_phrase, max_tweets,\n",
        "                                          max_id=max_id, since_id=since_id,\n",
        "                                          geocode=USA)\n",
        "            # write tweets to file in JSON format\n",
        "            if tweets:\n",
        "                write_tweets(tweets, json_file)\n",
        "                exitcount = 0\n",
        "            else:\n",
        "                exitcount += 1\n",
        "                if exitcount == 3:\n",
        "                    if search_phrase == search_phrases[-1]:\n",
        "                        sys.exit('Maximum number of empty tweet strings reached - exiting')\n",
        "                    else:\n",
        "                        print('Maximum number of empty tweet strings reached - breaking')\n",
        "                        break\n",
        "\n",
        "\n",
        "if __name__ == \"__main__\":\n",
        "    main()"
      ]
    },
    {
      "cell_type": "code",
      "execution_count": null,
      "metadata": {},
      "outputs": [],
      "source": []
    }
  ],
  "metadata": {
    "accelerator": "GPU",
    "colab": {
      "gpuType": "T4",
      "provenance": []
    },
    "gpuClass": "standard",
    "kernelspec": {
      "display_name": "Python 3",
      "name": "python3"
    },
    "language_info": {
      "codemirror_mode": {
        "name": "ipython",
        "version": 3
      },
      "file_extension": ".py",
      "mimetype": "text/x-python",
      "name": "python",
      "nbconvert_exporter": "python",
      "pygments_lexer": "ipython3",
      "version": "3.9.12"
    }
  },
  "nbformat": 4,
  "nbformat_minor": 0
}
